{
  "nbformat": 4,
  "nbformat_minor": 0,
  "metadata": {
    "colab": {
      "name": "Python permutations.ipynb",
      "version": "0.3.2",
      "provenance": [],
      "collapsed_sections": [],
      "include_colab_link": true
    },
    "kernelspec": {
      "name": "python3",
      "display_name": "Python 3"
    }
  },
  "cells": [
    {
      "cell_type": "markdown",
      "metadata": {
        "id": "view-in-github",
        "colab_type": "text"
      },
      "source": [
        "<a href=\"https://colab.research.google.com/github/sujanay/python-programming/blob/master/Python_permutations.ipynb\" target=\"_parent\"><img src=\"https://colab.research.google.com/assets/colab-badge.svg\" alt=\"Open In Colab\"/></a>"
      ]
    },
    {
      "cell_type": "markdown",
      "metadata": {
        "id": "h-8y_oRx0SnW",
        "colab_type": "text"
      },
      "source": [
        "# Program to generate list of permutations of words in a sentence"
      ]
    },
    {
      "cell_type": "code",
      "metadata": {
        "id": "KxjRnZuXqYYC",
        "colab_type": "code",
        "colab": {}
      },
      "source": [
        "from itertools import permutations\n",
        "\n",
        "def word_breaker(usr_input, words):\n",
        "  \"\"\" returns True if the word 'user_input' can be constructed using words_dict\"\"\"\n",
        "  \n",
        "  all_words = set()\n",
        "\n",
        "  for i in range(1, len(words)+1):\n",
        "    tmp_lst = list(permutations(words, i))\n",
        "\n",
        "    for tup in tmp_lst:\n",
        "      tmp_word = ''\n",
        "      for word in tup:\n",
        "        tmp_word += word\n",
        "\n",
        "      all_words.add(tmp_word)\n",
        "      \n",
        "  # check if the word is in the complete permutations of the word    \n",
        "  if usr_input in all_words: \n",
        "    return True\n",
        "  else:\n",
        "    return False\n",
        "\n",
        "\n",
        "words = 'machine learning learn engineer'.split()\n",
        "assert word_breaker('o9', words) == False\n",
        "assert word_breaker('machinelearn', words) == True"
      ],
      "execution_count": 0,
      "outputs": []
    }
  ]
}